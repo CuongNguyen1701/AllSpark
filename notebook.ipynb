{
 "cells": [
  {
   "cell_type": "code",
   "execution_count": 18,
   "metadata": {},
   "outputs": [],
   "source": [
    "from IPython.display import Image\n",
    "import cv2\n",
    "import matplotlib.pyplot as plt\n",
    "import numpy as np\n",
    "# path = \"E:\\\\GithubE\\\\AllSpark\\\\EasyPotrait\\\\annotations\\\\test\\\\0a0c4e24-d35f-4b70-ac80-4117eca7ac77.png\"\n",
    "# path = \"E:\\\\GithubE\\\\AllSpark\\\\VOC2012\\\\SegmentationClass\\\\2007_000032.png\"\n",
    "path = \"E:\\\\GithubE\\\\AllSpark\\\\VOC2012\\\\SegmentationClass\\\\2007_000170.png\"\n",
    "img = cv2.imread(path)\n",
    "y = np.bincount(img.flatten())\n",
    "ii = np.nonzero(y)[0]"
   ]
  },
  {
   "cell_type": "code",
   "execution_count": 19,
   "metadata": {},
   "outputs": [
    {
     "data": {
      "text/plain": [
       "array([[     0, 279624],\n",
       "       [     5,   7644],\n",
       "       [    15, 253317],\n",
       "       [   255,  21915]], dtype=int64)"
      ]
     },
     "execution_count": 19,
     "metadata": {},
     "output_type": "execute_result"
    }
   ],
   "source": [
    "np.vstack((ii,y[ii])).T"
   ]
  },
  {
   "cell_type": "code",
   "execution_count": 20,
   "metadata": {},
   "outputs": [
    {
     "name": "stdout",
     "output_type": "stream",
     "text": [
      "2.1.2+cpu\n"
     ]
    }
   ],
   "source": []
  },
  {
   "cell_type": "code",
   "execution_count": null,
   "metadata": {},
   "outputs": [],
   "source": []
  }
 ],
 "metadata": {
  "kernelspec": {
   "display_name": "Python 3",
   "language": "python",
   "name": "python3"
  },
  "language_info": {
   "codemirror_mode": {
    "name": "ipython",
    "version": 3
   },
   "file_extension": ".py",
   "mimetype": "text/x-python",
   "name": "python",
   "nbconvert_exporter": "python",
   "pygments_lexer": "ipython3",
   "version": "3.9.9"
  }
 },
 "nbformat": 4,
 "nbformat_minor": 2
}
